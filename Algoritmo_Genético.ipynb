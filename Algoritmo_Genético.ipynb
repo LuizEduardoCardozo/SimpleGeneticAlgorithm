{
  "nbformat": 4,
  "nbformat_minor": 0,
  "metadata": {
    "colab": {
      "name": "Algoritmo Genético",
      "provenance": [],
      "collapsed_sections": []
    },
    "kernelspec": {
      "name": "python3",
      "display_name": "Python 3"
    }
  },
  "cells": [
    {
      "cell_type": "code",
      "metadata": {
        "id": "K9zpUlg_8h6o",
        "colab_type": "code",
        "colab": {}
      },
      "source": [
        "import random\n",
        "import numpy as np\n",
        "from sys import stdout"
      ],
      "execution_count": 0,
      "outputs": []
    },
    {
      "cell_type": "code",
      "metadata": {
        "id": "UeL5ncA-82y8",
        "colab_type": "code",
        "colab": {}
      },
      "source": [
        "GENES = '''abcdefghijklmnopqrstuvxyzABCDEFGHIJKLMNOPQRSTUVXYZ123456789,! ''' # cromossomos são compostos por genes. \n",
        "WORD = \"Ola, mundo!\" # objetivo final"
      ],
      "execution_count": 0,
      "outputs": []
    },
    {
      "cell_type": "markdown",
      "metadata": {
        "id": "6wzasw9QQkeV",
        "colab_type": "text"
      },
      "source": [
        "O objeto \"Individual\" representa um indivído, dotado de um cromossomo.\n",
        "\n",
        "Através da função \"mate\", podemos cruzar dois indivíduos, misturando o cromossomo dos dois e, aleatóriamente, provocando mudanças no cromossomo resultante.\n",
        "\n",
        "A função \"do_fit\" dá uma nota para o cromossomo resultande, comparando-o com a palvavra objetivo."
      ]
    },
    {
      "cell_type": "code",
      "metadata": {
        "id": "fX5-cyZN8l97",
        "colab_type": "code",
        "colab": {}
      },
      "source": [
        "class Individual(object):\n",
        "  def __init__(self,chromosome):\n",
        "    self.chromosome = chromosome\n",
        "\n",
        "  def get_gene(self):\n",
        "    return random.choice(GENES)\n",
        "\n",
        "  def do_fit(self,indivual):\n",
        "    points = 0\n",
        "    for c1,c2 in zip(self.chromosome,indivual.chromosome):\n",
        "      if(c1==c2):points+=1\n",
        "    return points\n",
        "\n",
        "  def mate(self,partner):\n",
        "    child = []\n",
        "    for gene in self.chromosome:\n",
        "      rand_num = np.clip(np.random.rand(),0,1)\n",
        "      if rand_num < 0.45:\n",
        "        child.append(gene)\n",
        "      elif rand_num > 0.85:\n",
        "        child.append(partner.chromosome[self.chromosome.index(gene)])\n",
        "      else:\n",
        "        child.append(self.get_gene())\n",
        "    return ''.join(child)"
      ],
      "execution_count": 0,
      "outputs": []
    },
    {
      "cell_type": "markdown",
      "metadata": {
        "id": "lZoUpWSzRRW-",
        "colab_type": "text"
      },
      "source": [
        "A população inicial é gerada de maneira aleatória, isso é, são gerados indivíduos com cromossomos aleatórios"
      ]
    },
    {
      "cell_type": "code",
      "metadata": {
        "id": "BnTl-Ac09WSF",
        "colab_type": "code",
        "colab": {}
      },
      "source": [
        "def generate_population(pop_size,target,genes_list):\n",
        "  chromo_size = len(target)\n",
        "  population, chromosome = [], []\n",
        "  \n",
        "  for pop in range(pop_size):\n",
        "    #Gerando um individuo\n",
        "    for _ in range(chromo_size):\n",
        "      chromosome.append(random.choice(genes_list))\n",
        "    individuo = Individual(''.join(chromosome))\n",
        "    population.append(individuo)\n",
        "    chromosome = []\n",
        "\n",
        "  return population"
      ],
      "execution_count": 0,
      "outputs": []
    },
    {
      "cell_type": "code",
      "metadata": {
        "id": "TvTt7vom9bI8",
        "colab_type": "code",
        "colab": {}
      },
      "source": [
        "obj = Individual(WORD)"
      ],
      "execution_count": 0,
      "outputs": []
    },
    {
      "cell_type": "markdown",
      "metadata": {
        "id": "9KHPpMGgRfE_",
        "colab_type": "text"
      },
      "source": [
        "A partir da população incial, chamada de \"primeira geração\", geramos uma nova população, uma \"nova geração\". Isso é feito através da função \"mate\" que os individuos possuem.\n",
        "\n",
        "na função \"get_elite\", os individuos são classificados de acordo com a sua nota, gerada pela função \"do_fit\". Os individuos de menor nota são excluidos, restando apenas os de maior nota.\n",
        "\n",
        "Esse processo é repetido diversas vezes, até que surja um individuo, cujo cromossomo é igual ao dado na variável WORD."
      ]
    },
    {
      "cell_type": "code",
      "metadata": {
        "id": "Fr2iQgsFGSGC",
        "colab_type": "code",
        "colab": {}
      },
      "source": [
        "def gen_new_population(pop):\n",
        "  def get_elite(pop):\n",
        "    elite_percent = int((2/10)*len(pop))\n",
        "    return pop[0:elite_percent]\n",
        " \n",
        "  pop = sorted(pop, key= lambda x:x.do_fit(obj),reverse=True) #Organiza a população de acordo com o maior fit\n",
        "  pop = get_elite(pop) #seleciona os 20% melhores\n",
        "\n",
        "  new_pop = pop\n",
        "  qtd = int(8/10*(100))\n",
        "\n",
        "  for _ in range(qtd):\n",
        "    childs = []\n",
        "    i1 = random.choice(new_pop)\n",
        "    i2 = random.choice(new_pop)\n",
        "\n",
        "    childs.append(Individual(i1.mate(i2)))\n",
        "    new_pop.extend(childs)\n",
        "    \n",
        "  return sorted(new_pop, key= lambda x:x.do_fit(obj),reverse=True)"
      ],
      "execution_count": 0,
      "outputs": []
    },
    {
      "cell_type": "markdown",
      "metadata": {
        "id": "0TXp99_vSPU3",
        "colab_type": "text"
      },
      "source": [
        "Na função main, está sendo gerada uma população de 100 individuos.\n",
        "Enquando o individuo de maior nota (pop[0]) não for igual a palavra definida em WORD, o algoritimo irá rodar, gerando mutações nos indivíduos, como já foi explicado anteriormente."
      ]
    },
    {
      "cell_type": "code",
      "metadata": {
        "id": "zVfBHKHcKiJT",
        "colab_type": "code",
        "colab": {}
      },
      "source": [
        "def main():\n",
        "\n",
        "  pop = generate_population(100,WORD,GENES)\n",
        "  \n",
        "  found = False\n",
        "\n",
        "  while not found:\n",
        "    pop = gen_new_population(pop)\n",
        "\n",
        "    if pop[0].chromosome == WORD:\n",
        "      found = True\n",
        "    \n",
        "    print(pop[0].chromosome)\n",
        "\n",
        "\n",
        "if __name__ == \"__main__\":\n",
        "  main()\n"
      ],
      "execution_count": 0,
      "outputs": []
    }
  ]
}